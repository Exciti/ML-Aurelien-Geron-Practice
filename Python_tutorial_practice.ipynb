{
  "nbformat": 4,
  "nbformat_minor": 0,
  "metadata": {
    "colab": {
      "name": "Python tutorial practice.ipynb",
      "version": "0.3.2",
      "provenance": [],
      "collapsed_sections": [],
      "include_colab_link": true
    },
    "kernelspec": {
      "name": "python3",
      "display_name": "Python 3"
    },
    "accelerator": "GPU"
  },
  "cells": [
    {
      "cell_type": "markdown",
      "metadata": {
        "id": "view-in-github",
        "colab_type": "text"
      },
      "source": [
        "<a href=\"https://colab.research.google.com/github/Exciti/ML-Aurelien-Geron-Practice/blob/master/Python_tutorial_practice.ipynb\" target=\"_parent\"><img src=\"https://colab.research.google.com/assets/colab-badge.svg\" alt=\"Open In Colab\"/></a>"
      ]
    },
    {
      "cell_type": "code",
      "metadata": {
        "id": "X46lhoHSq5xx",
        "colab_type": "code",
        "outputId": "53cae233-66f0-45d7-c7d4-09d4ea9cbb3b",
        "colab": {
          "base_uri": "https://localhost:8080/",
          "height": 35
        }
      },
      "source": [
        "m=input('Who are you:' )"
      ],
      "execution_count": 0,
      "outputs": [
        {
          "output_type": "stream",
          "text": [
            "Who are you:I am a Programmer\n"
          ],
          "name": "stdout"
        }
      ]
    },
    {
      "cell_type": "code",
      "metadata": {
        "id": "n2XdZqOVrwO_",
        "colab_type": "code",
        "colab": {}
      },
      "source": [
        "pri=f'{m} who have enromous abilites'"
      ],
      "execution_count": 0,
      "outputs": []
    },
    {
      "cell_type": "code",
      "metadata": {
        "id": "AzVbQ_HerwRV",
        "colab_type": "code",
        "outputId": "53bbbb9d-ff61-4c38-8473-48175aa205c4",
        "colab": {
          "base_uri": "https://localhost:8080/",
          "height": 35
        }
      },
      "source": [
        "print(pri)"
      ],
      "execution_count": 0,
      "outputs": [
        {
          "output_type": "stream",
          "text": [
            "I am a Programmer who have enromous abilites\n"
          ],
          "name": "stdout"
        }
      ]
    },
    {
      "cell_type": "code",
      "metadata": {
        "id": "lpOJH6LOrwUB",
        "colab_type": "code",
        "outputId": "382cfc8e-f170-4416-9800-21f8c8293170",
        "colab": {
          "base_uri": "https://localhost:8080/",
          "height": 35
        }
      },
      "source": [
        "\n",
        "print(pri.upper())"
      ],
      "execution_count": 0,
      "outputs": [
        {
          "output_type": "stream",
          "text": [
            "I AM A PROGRAMMER WHO HAVE ENROMOUS ABILITES\n"
          ],
          "name": "stdout"
        }
      ]
    },
    {
      "cell_type": "code",
      "metadata": {
        "id": "_yz3mAnirwXA",
        "colab_type": "code",
        "outputId": "4da2df79-4b0b-41df-a56c-cfa7793359e7",
        "colab": {
          "base_uri": "https://localhost:8080/",
          "height": 35
        }
      },
      "source": [
        "print(pri[:4] * 4)"
      ],
      "execution_count": 0,
      "outputs": [
        {
          "output_type": "stream",
          "text": [
            "I amI amI amI am\n"
          ],
          "name": "stdout"
        }
      ]
    },
    {
      "cell_type": "code",
      "metadata": {
        "id": "0e543SCOrwZp",
        "colab_type": "code",
        "outputId": "e580ead1-b75a-4fcd-c348-2bb7d577905f",
        "colab": {
          "base_uri": "https://localhost:8080/",
          "height": 35
        }
      },
      "source": [
        "Powerful=True\n",
        "if not Powerful:\n",
        "  print('Leverage it')\n",
        "else:\n",
        "  print('Bow to it')\n",
        "  "
      ],
      "execution_count": 0,
      "outputs": [
        {
          "output_type": "stream",
          "text": [
            "Bow to it\n"
          ],
          "name": "stdout"
        }
      ]
    },
    {
      "cell_type": "code",
      "metadata": {
        "id": "raYWQ0EmrwfV",
        "colab_type": "code",
        "outputId": "2fafff89-0013-4adb-d847-72a247e30ad4",
        "colab": {
          "base_uri": "https://localhost:8080/",
          "height": 69
        }
      },
      "source": [
        "w=int(input('weight: '))\n",
        "u=input('(L)bs or (K)gs:')\n",
        "if u.lower==\"k\":\n",
        "  con=w * 2.4\n",
        "  print(con)\n",
        "  \n",
        "else:\n",
        "  print(w*.9)\n",
        "  "
      ],
      "execution_count": 0,
      "outputs": [
        {
          "output_type": "stream",
          "text": [
            "weight: 888\n",
            "(L)bs or (K)gs:k\n",
            "799.2\n"
          ],
          "name": "stdout"
        }
      ]
    },
    {
      "cell_type": "code",
      "metadata": {
        "id": "fTE9G-c1rwhv",
        "colab_type": "code",
        "colab": {}
      },
      "source": [
        " print(c)"
      ],
      "execution_count": 0,
      "outputs": []
    },
    {
      "cell_type": "code",
      "metadata": {
        "id": "0Io5_Vv_rwlG",
        "colab_type": "code",
        "outputId": "6305b542-7876-4e22-cc23-eddecf9bf24a",
        "colab": {
          "base_uri": "https://localhost:8080/",
          "height": 104
        }
      },
      "source": [
        "loop=0\n",
        "while loop <10:\n",
        "  loop+=2\n",
        "  print(f'you are in loop num {loop}')"
      ],
      "execution_count": 0,
      "outputs": [
        {
          "output_type": "stream",
          "text": [
            "you are in loop num 2\n",
            "you are in loop num 4\n",
            "you are in loop num 6\n",
            "you are in loop num 8\n",
            "you are in loop num 10\n"
          ],
          "name": "stdout"
        }
      ]
    },
    {
      "cell_type": "code",
      "metadata": {
        "id": "blvVTOK1rwci",
        "colab_type": "code",
        "outputId": "f1bd2c40-e36e-4202-9b11-560c1fad8843",
        "colab": {
          "base_uri": "https://localhost:8080/",
          "height": 35
        }
      },
      "source": [
        "bp=22\n",
        "pulse=22\n",
        "guess=2\n",
        "\n",
        "while bp < pulse:\n",
        "      tmp=int(input('Body Temp: '))\n",
        "      if tmp == guess:\n",
        "        bp +=1\n",
        "        print('You are Correct')\n",
        "        break\n",
        "      else:\n",
        "        print('you are out')\n",
        "else:\n",
        "  print(\"Nope ,sorry\")"
      ],
      "execution_count": 0,
      "outputs": [
        {
          "output_type": "stream",
          "text": [
            "Nope ,sorry\n"
          ],
          "name": "stdout"
        }
      ]
    },
    {
      "cell_type": "code",
      "metadata": {
        "id": "zGKAnrwOV0r6",
        "colab_type": "code",
        "colab": {}
      },
      "source": [
        "command="
      ],
      "execution_count": 0,
      "outputs": []
    },
    {
      "cell_type": "code",
      "metadata": {
        "id": "GLCfduRjV0pL",
        "colab_type": "code",
        "outputId": "f24fd6f2-774c-4ff5-ea1a-f4c89ab473f8",
        "colab": {
          "base_uri": "https://localhost:8080/",
          "height": 52
        }
      },
      "source": [
        "command=\"start\"\n",
        "while command.upper() ==\"START\":\n",
        "  car=input(\"Running status: \").upper()\n",
        "  if car.upper()=='START':\n",
        "    print('Car Started')\n",
        "  else:\n",
        "    print(\"command not recognised\")\n",
        "  break"
      ],
      "execution_count": 0,
      "outputs": [
        {
          "output_type": "stream",
          "text": [
            "Running status: sTart\n",
            "Car Started\n"
          ],
          "name": "stdout"
        }
      ]
    },
    {
      "cell_type": "code",
      "metadata": {
        "id": "52ojnbdLV0lS",
        "colab_type": "code",
        "outputId": "b463f025-8738-4291-93e9-8ef4542d1884",
        "colab": {
          "base_uri": "https://localhost:8080/",
          "height": 52
        }
      },
      "source": [
        "for me in [\"America\", \"canada\"]:\n",
        "  print(me)"
      ],
      "execution_count": 0,
      "outputs": [
        {
          "output_type": "stream",
          "text": [
            "America\n",
            "canada\n"
          ],
          "name": "stdout"
        }
      ]
    },
    {
      "cell_type": "code",
      "metadata": {
        "id": "Nob7RHHs43FM",
        "colab_type": "code",
        "outputId": "719ff805-a753-4ac8-8b11-2cc86f6d1600",
        "colab": {
          "base_uri": "https://localhost:8080/",
          "height": 277
        }
      },
      "source": [
        "for x in range(5):\n",
        "  for y in range(3):\n",
        "    print(f'({x},{y})')"
      ],
      "execution_count": 0,
      "outputs": [
        {
          "output_type": "stream",
          "text": [
            "(0,0)\n",
            "(0,1)\n",
            "(0,2)\n",
            "(1,0)\n",
            "(1,1)\n",
            "(1,2)\n",
            "(2,0)\n",
            "(2,1)\n",
            "(2,2)\n",
            "(3,0)\n",
            "(3,1)\n",
            "(3,2)\n",
            "(4,0)\n",
            "(4,1)\n",
            "(4,2)\n"
          ],
          "name": "stdout"
        }
      ]
    },
    {
      "cell_type": "code",
      "metadata": {
        "id": "txwJsltc7To6",
        "colab_type": "code",
        "outputId": "7fc4e3aa-08ce-4ce7-e2f6-c994cdbe0d5d",
        "colab": {
          "base_uri": "https://localhost:8080/",
          "height": 104
        }
      },
      "source": [
        "num=[5,2,5,2,5]\n",
        "\n",
        "for i in num:\n",
        "  img = 'A' * i\n",
        "  print(img)"
      ],
      "execution_count": 0,
      "outputs": [
        {
          "output_type": "stream",
          "text": [
            "AAAAA\n",
            "AA\n",
            "AAAAA\n",
            "AA\n",
            "AAAAA\n"
          ],
          "name": "stdout"
        }
      ]
    },
    {
      "cell_type": "code",
      "metadata": {
        "id": "1rApMchQ7Upw",
        "colab_type": "code",
        "outputId": "2ad2e602-6644-4791-d419-376a725c6dc8",
        "colab": {
          "base_uri": "https://localhost:8080/",
          "height": 35
        }
      },
      "source": [
        "x=set(num) \n",
        "l=999\n",
        "l == 999"
      ],
      "execution_count": 0,
      "outputs": [
        {
          "output_type": "execute_result",
          "data": {
            "text/plain": [
              "True"
            ]
          },
          "metadata": {
            "tags": []
          },
          "execution_count": 108
        }
      ]
    },
    {
      "cell_type": "code",
      "metadata": {
        "id": "8eyNWaCI7Uva",
        "colab_type": "code",
        "outputId": "32a8333e-3aec-453d-c550-c33999462bed",
        "colab": {
          "base_uri": "https://localhost:8080/",
          "height": 35
        }
      },
      "source": [
        "# uniques\n",
        "num=[11,2,3,4,4,4,5]\n",
        "un=[]\n",
        "for numb in num:\n",
        "  if numb not in un:\n",
        "    un.append(numb)\n",
        "print(un)"
      ],
      "execution_count": 0,
      "outputs": [
        {
          "output_type": "stream",
          "text": [
            "[11, 2, 3, 4, 5]\n"
          ],
          "name": "stdout"
        }
      ]
    },
    {
      "cell_type": "code",
      "metadata": {
        "id": "B7CZyy857U1Y",
        "colab_type": "code",
        "outputId": "58bddcbf-1125-4f99-bc81-612a73cf5f97",
        "colab": {
          "base_uri": "https://localhost:8080/",
          "height": 35
        }
      },
      "source": [
        "k=[1,2,3]\n",
        "x,y,z=k\n",
        "x\n",
        "k\n",
        "z"
      ],
      "execution_count": 0,
      "outputs": [
        {
          "output_type": "execute_result",
          "data": {
            "text/plain": [
              "3"
            ]
          },
          "metadata": {
            "tags": []
          },
          "execution_count": 6
        }
      ]
    },
    {
      "cell_type": "code",
      "metadata": {
        "id": "E_0GI3n27U7W",
        "colab_type": "code",
        "colab": {}
      },
      "source": [
        "dic={\"desire\":\"Evolution\",\"Action\":\"Save your energy\"}\n"
      ],
      "execution_count": 0,
      "outputs": []
    },
    {
      "cell_type": "code",
      "metadata": {
        "id": "gKdD-_D17VCI",
        "colab_type": "code",
        "colab": {}
      },
      "source": [
        "dic[\"desire\"]"
      ],
      "execution_count": 0,
      "outputs": []
    },
    {
      "cell_type": "code",
      "metadata": {
        "id": "XODa_tow7VIb",
        "colab_type": "code",
        "outputId": "3ffed304-9bdb-4e41-f5da-2d9855bcbab7",
        "colab": {
          "base_uri": "https://localhost:8080/",
          "height": 52
        }
      },
      "source": [
        "dic_num={1:\"one\",2:\"two\",3:\"three\",4:\"four\",5:\"five\",6:\"six\",7:\"seven\",8:\"eight\",9:\"nine\",10:\"ten\"}\n",
        "\n",
        "\n",
        "inp=int(input(\"Please type number for translation: \"))\n",
        "if inp < 10:\n",
        "   print(dic_num[inp])\n",
        "else:\n",
        "   print(\"Not Feeded in System\")"
      ],
      "execution_count": 0,
      "outputs": [
        {
          "output_type": "stream",
          "text": [
            "Please type number for translation: 11\n",
            "Not Feeded in System\n"
          ],
          "name": "stdout"
        }
      ]
    },
    {
      "cell_type": "code",
      "metadata": {
        "id": "jsrAuQg27VPO",
        "colab_type": "code",
        "outputId": "6487b7b5-ca22-4709-e00e-ea7010205c61",
        "colab": {
          "base_uri": "https://localhost:8080/",
          "height": 52
        }
      },
      "source": [
        "dic_num={\"1\":\"one\",\"2\":\"two\",\"3\":\"three\",\"4\":\"four\",\"5\":\"five\",\"6\":\"six\",\"7\":\"seven\",\"8\":\"eight\",\"9\":\"nine\",\"10\":\"ten\"}\n",
        "\n",
        "\n",
        "inp=input(\"Please type number for translation: \")\n",
        "out=''\n",
        "for i in inp:\n",
        "  out += dic_num.get(i,\"!\")+\" \"\n",
        "print(out.upper())\n",
        "# else:\n",
        "#    print(\"Not Feeded in System\")"
      ],
      "execution_count": 0,
      "outputs": [
        {
          "output_type": "stream",
          "text": [
            "Please type number for translation: 1\n",
            "ONE \n"
          ],
          "name": "stdout"
        }
      ]
    },
    {
      "cell_type": "code",
      "metadata": {
        "id": "07Jl8jb27VcL",
        "colab_type": "code",
        "outputId": "b939c3de-5faf-4807-8a32-2b0fd7e502e8",
        "colab": {
          "base_uri": "https://localhost:8080/",
          "height": 35
        }
      },
      "source": [
        "dic_num.get(\"1\",\"$\")"
      ],
      "execution_count": 0,
      "outputs": [
        {
          "output_type": "execute_result",
          "data": {
            "text/plain": [
              "'one'"
            ]
          },
          "metadata": {
            "tags": []
          },
          "execution_count": 4
        }
      ]
    },
    {
      "cell_type": "code",
      "metadata": {
        "id": "g8qN3odO7VjW",
        "colab_type": "code",
        "outputId": "9a60edc0-d13d-47ce-9926-5591036b666c",
        "colab": {
          "base_uri": "https://localhost:8080/",
          "height": 139
        }
      },
      "source": [
        "jj=\"Basic Operators in Python. Arithmetic operators: Arithmetic operators are used to perform,1,2,3, mathematical operations like addition, subtraction, multiplication\"\n",
        "jj.split(\",\")"
      ],
      "execution_count": 0,
      "outputs": [
        {
          "output_type": "execute_result",
          "data": {
            "text/plain": [
              "['Basic Operators in Python. Arithmetic operators: Arithmetic operators are used to perform',\n",
              " '1',\n",
              " '2',\n",
              " '3',\n",
              " ' mathematical operations like addition',\n",
              " ' subtraction',\n",
              " ' multiplication']"
            ]
          },
          "metadata": {
            "tags": []
          },
          "execution_count": 1
        }
      ]
    },
    {
      "cell_type": "code",
      "metadata": {
        "id": "A7RvEaqC7V27",
        "colab_type": "code",
        "outputId": "dd036931-7fa1-4962-9e07-354fbc0d84f6",
        "colab": {
          "base_uri": "https://localhost:8080/",
          "height": 55
        }
      },
      "source": [
        "out=''\n",
        "for n in jj:\n",
        "  out+=dic_num.get(n,n)\n",
        "print(out)"
      ],
      "execution_count": 0,
      "outputs": [
        {
          "output_type": "stream",
          "text": [
            "Basic Operators in Python. Arithmetic operators: Arithmetic operators are used to perform,one,two,three, mathematical operations like addition, subtraction, multiplication\n"
          ],
          "name": "stdout"
        }
      ]
    },
    {
      "cell_type": "code",
      "metadata": {
        "id": "Bqe6Jb2P7Vxo",
        "colab_type": "code",
        "outputId": "4c017072-04cd-4319-b987-9447b5a8748f",
        "colab": {
          "base_uri": "https://localhost:8080/",
          "height": 34
        }
      },
      "source": [
        "  msg=\"I am :)\"\n",
        "  words=msg.split(\" \")\n",
        "  emoji={\":)\":\"😃\"}\n",
        "  output=\"\"\n",
        "  for i in words:\n",
        "    output +=emoji.get(i,i)+\" \"\n",
        "  print(output)"
      ],
      "execution_count": 0,
      "outputs": [
        {
          "output_type": "stream",
          "text": [
            "I am 😃 \n"
          ],
          "name": "stdout"
        }
      ]
    },
    {
      "cell_type": "code",
      "metadata": {
        "id": "_FFqMPsX7VrO",
        "colab_type": "code",
        "outputId": "436b8315-6c82-42d7-fc6b-2188742c457d",
        "colab": {
          "base_uri": "https://localhost:8080/",
          "height": 51
        }
      },
      "source": [
        "def converter(Msg):\n",
        "  words=msg.split(\" \")\n",
        "  emoji={\":)\":\"😃\"}\n",
        "  output=\"\"\n",
        "  for i in words:\n",
        "    output +=emoji.get(i,i)+\" \"\n",
        "  return output\n",
        "msg=input(\"> \")\n",
        "print(converter(msg))"
      ],
      "execution_count": 0,
      "outputs": [
        {
          "output_type": "stream",
          "text": [
            "> Ok I get it Drng :)\n",
            "Ok I get it Drng 😃 \n"
          ],
          "name": "stdout"
        }
      ]
    },
    {
      "cell_type": "markdown",
      "metadata": {
        "id": "Bigdqqta2hpR",
        "colab_type": "text"
      },
      "source": [
        "Try and Except Blocks"
      ]
    },
    {
      "cell_type": "code",
      "metadata": {
        "id": "NMYaNSF32sBn",
        "colab_type": "code",
        "outputId": "8f0915f3-0bc4-4f11-c94d-08ded0287322",
        "colab": {
          "base_uri": "https://localhost:8080/",
          "height": 51
        }
      },
      "source": [
        "try:\n",
        "  age=int(input(\"Your Age: \"))\n",
        "  size=23/age\n",
        "  print(age)\n",
        "except ZeroDivisionError:\n",
        "  print(\"0 not allowed for this operation\")\n",
        "except ValueError:\n",
        "  print(\"Error\")\n",
        "  "
      ],
      "execution_count": 0,
      "outputs": [
        {
          "output_type": "stream",
          "text": [
            "Your Age: 0\n",
            "0 not allowed for this operation\n"
          ],
          "name": "stdout"
        }
      ]
    },
    {
      "cell_type": "code",
      "metadata": {
        "id": "6M6ufwzXi5P5",
        "colab_type": "code",
        "outputId": "217852e2-2d98-4f7f-f979-29624b341abc",
        "colab": {
          "base_uri": "https://localhost:8080/",
          "height": 34
        }
      },
      "source": [
        "# constructors define attributes for objects\n",
        "\n",
        "# init consturcts attributes(positional and functional arguments in layman terms for class point )\n",
        "class Point:\n",
        "  def __init__(self,name,age):\n",
        "    self.name=str(name)\n",
        "    self.age=age\n",
        "    \n",
        "x=Point('dd',10)\n",
        "x.name\n",
        "    \n",
        "    "
      ],
      "execution_count": 0,
      "outputs": [
        {
          "output_type": "execute_result",
          "data": {
            "text/plain": [
              "'dd'"
            ]
          },
          "metadata": {
            "tags": []
          },
          "execution_count": 16
        }
      ]
    },
    {
      "cell_type": "code",
      "metadata": {
        "id": "qZ7dfRVIi5ik",
        "colab_type": "code",
        "outputId": "091b0af9-5119-471e-e0f5-17b36877a560",
        "colab": {
          "base_uri": "https://localhost:8080/",
          "height": 34
        }
      },
      "source": [
        "class Person:\n",
        "  def __init__(self,name):\n",
        "    self.name=name\n",
        "    \n",
        "  def talk(self):\n",
        "    print(f\"I am counting {self.name}\")\n",
        "    \n",
        "# Both below represnt same thing if self.name is within the function talk\n",
        "Person(\"JJ\").talk()\n",
        "# Person.talk(\"JJ\")"
      ],
      "execution_count": 0,
      "outputs": [
        {
          "output_type": "stream",
          "text": [
            "I am counting JJ\n"
          ],
          "name": "stdout"
        }
      ]
    },
    {
      "cell_type": "code",
      "metadata": {
        "id": "62ccNqUxi5wp",
        "colab_type": "code",
        "outputId": "71db60cd-c812-49fd-d1b6-916fc35fe87c",
        "colab": {
          "base_uri": "https://localhost:8080/",
          "height": 34
        }
      },
      "source": [
        "class Amar:\n",
        "  def charat(self):\n",
        "    print(f\"Hey whats up \")\n",
        "\n",
        "class Jr(Amar):\n",
        "  pass\n",
        "    \n",
        "k=Amar()\n",
        "k.charat()"
      ],
      "execution_count": 0,
      "outputs": [
        {
          "output_type": "stream",
          "text": [
            "Hey whats up \n"
          ],
          "name": "stdout"
        }
      ]
    },
    {
      "cell_type": "code",
      "metadata": {
        "id": "EVyOb4-4i54U",
        "colab_type": "code",
        "outputId": "3b59f320-fffc-4cb7-eccd-c4f1924cc838",
        "colab": {
          "base_uri": "https://localhost:8080/",
          "height": 34
        }
      },
      "source": [
        "import random\n",
        "class Dice:\n",
        "  def dic():\n",
        "    first=0\n",
        "    second=0\n",
        "    for number in range(3):\n",
        "      first +=random.randint(10,20)\n",
        "      second +=random.randint(1,10)\n",
        "    return first,second\n",
        "\n",
        "p=Dice.dic()\n",
        "print(p)\n",
        "\n",
        "  "
      ],
      "execution_count": 0,
      "outputs": [
        {
          "output_type": "stream",
          "text": [
            "(47, 14)\n"
          ],
          "name": "stdout"
        }
      ]
    },
    {
      "cell_type": "code",
      "metadata": {
        "id": "xDoF9AVVi52I",
        "colab_type": "code",
        "colab": {}
      },
      "source": [
        "pathlib talks about mkdir rmdir glob etc.\n",
        "openpyxl about opening excel in python envirnment"
      ],
      "execution_count": 0,
      "outputs": []
    },
    {
      "cell_type": "code",
      "metadata": {
        "id": "wiPLJUrvGvDP",
        "colab_type": "code",
        "colab": {}
      },
      "source": [
        "# https://realpython.com/python-requests/"
      ],
      "execution_count": 0,
      "outputs": []
    },
    {
      "cell_type": "code",
      "metadata": {
        "id": "QANwYoaCi5vH",
        "colab_type": "code",
        "colab": {
          "base_uri": "https://localhost:8080/",
          "height": 51
        },
        "outputId": "ec147c44-8d0a-4d75-91da-511dc9416c7b"
      },
      "source": [
        "import requests\n",
        "# from requests.exceptions import HTTPError\n",
        "\n",
        "for url in ['https://api.github.com', 'https://api.github.com/invalid']:\n",
        "    try:\n",
        "        response = requests.get(url)\n",
        "\n",
        "        # If the response was successful, no Exception will be raised\n",
        "        response.raise_for_status()\n",
        "    except HTTPError as http_err:\n",
        "        print(f'HTTP error occurred: {http_err}')  # Python 3.6\n",
        "    except Exception as err:\n",
        "        print(f'Other error occurred: {err}')  # Python 3.6\n",
        "    else:\n",
        "        print('Success!')\n",
        "    response.content"
      ],
      "execution_count": 5,
      "outputs": [
        {
          "output_type": "stream",
          "text": [
            "Success!\n",
            "HTTP error occurred: 404 Client Error: Not Found for url: https://api.github.com/invalid\n"
          ],
          "name": "stdout"
        }
      ]
    },
    {
      "cell_type": "code",
      "metadata": {
        "id": "VunolOw7GvHE",
        "colab_type": "code",
        "colab": {
          "base_uri": "https://localhost:8080/",
          "height": 34
        },
        "outputId": "626e99f4-faeb-4a18-df75-072248a85d5e"
      },
      "source": [
        "response.content\n",
        "response.encoding = 'utf-8' # Optional: requests infers this internally\n",
        "response.text"
      ],
      "execution_count": 9,
      "outputs": [
        {
          "output_type": "execute_result",
          "data": {
            "text/plain": [
              "'{\"message\":\"Not Found\",\"documentation_url\":\"https://developer.github.com/v3\"}'"
            ]
          },
          "metadata": {
            "tags": []
          },
          "execution_count": 9
        }
      ]
    },
    {
      "cell_type": "code",
      "metadata": {
        "id": "d9ybmBqDGvKY",
        "colab_type": "code",
        "colab": {
          "base_uri": "https://localhost:8080/",
          "height": 51
        },
        "outputId": "bf704045-5411-4caf-ed43-48971a79b795"
      },
      "source": [
        "response.json()"
      ],
      "execution_count": 10,
      "outputs": [
        {
          "output_type": "execute_result",
          "data": {
            "text/plain": [
              "{'documentation_url': 'https://developer.github.com/v3',\n",
              " 'message': 'Not Found'}"
            ]
          },
          "metadata": {
            "tags": []
          },
          "execution_count": 10
        }
      ]
    },
    {
      "cell_type": "code",
      "metadata": {
        "id": "-ZXUsJsNGvNu",
        "colab_type": "code",
        "colab": {}
      },
      "source": [
        "requests.get('https://api.github.com/search/repositories',params=b'q:requests+language:python')\n",
        "json_res=response.json()\n"
      ],
      "execution_count": 0,
      "outputs": []
    },
    {
      "cell_type": "code",
      "metadata": {
        "id": "iFiLMi2ri5gn",
        "colab_type": "code",
        "colab": {
          "base_uri": "https://localhost:8080/",
          "height": 54
        },
        "outputId": "4fe0c6e5-b72c-4714-a23a-f50feaffea5d"
      },
      "source": [
        "import requests\n",
        "\n",
        "response = requests.get(\n",
        "    'https://api.github.com/search/repositories',\n",
        "    params={'q': 'requests+language:python'},\n",
        "    headers={'Accept': 'application/vnd.github.v3.text-match+json'},\n",
        ")\n",
        "\n",
        "# View the new `text-matches` array which provides information\n",
        "# about your search term within the results\n",
        "json_response = response.json()\n",
        "repository = json_response['items'][0]\n",
        "print(f'Text matches: {repository[\"text_matches\"]}')"
      ],
      "execution_count": 20,
      "outputs": [
        {
          "output_type": "stream",
          "text": [
            "Text matches: [{'object_url': 'https://api.github.com/repositories/1362490', 'object_type': 'Repository', 'property': 'description', 'fragment': 'Python HTTP Requests for Humans™ ✨🍰✨', 'matches': [{'text': 'Requests', 'indices': [12, 20]}]}]\n"
          ],
          "name": "stdout"
        }
      ]
    }
  ]
}